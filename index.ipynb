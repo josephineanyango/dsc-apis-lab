{
 "cells": [
  {
   "cell_type": "markdown",
   "metadata": {},
   "source": [
    "# APIs - Cumulative Lab\n",
    "\n",
    "\n",
    "## Introduction \n",
    "\n",
    "We've seen how the Yelp API works and how to create basic visualizations using Folium. It's time to put those skills to work in order to create a working map! Taking things a step further, you'll also independently explore how to perform pagination in order to retrieve a full results set from the Yelp API.\n",
    "\n",
    "## Objectives\n",
    "\n",
    "You will be able to: \n",
    "\n",
    "* Practice using functions to organize your code\n",
    "* Use pagination to retrieve all results from an API query\n",
    "* Practice parsing data returned from an API query\n",
    "* Practice interpreting visualizations of a dataset\n",
    "* Create maps using Folium"
   ]
  },
  {
   "cell_type": "markdown",
   "metadata": {},
   "source": [
    "## Your Task: Query Yelp for All Businesses in a Category and Analyze the Results\n",
    "\n",
    "![restaurant counter with pizza](images/restaurant_counter.jpg)\n",
    "\n",
    "Photo by <a href=\"https://unsplash.com/@jordanmadrid?utm_source=unsplash&utm_medium=referral&utm_content=creditCopyText\">Jordan Madrid</a> on <a href=\"/s/photos/pizza-restaurant?utm_source=unsplash&utm_medium=referral&utm_content=creditCopyText\">Unsplash</a>"
   ]
  },
  {
   "attachments": {},
   "cell_type": "markdown",
   "metadata": {
    "jp-MarkdownHeadingCollapsed": true
   },
   "source": [
    "### Overview\n",
    "\n",
    "You've now worked with some API calls, but we have yet to see how to retrieve a more complete dataset in a programmatic manner. In this lab, you will write a query of businesses on Yelp, then use *pagination* to retrieve all possible results for that query. Then you will create a summary of your findings, including a Folium map of the geographic locations of those businesses.\n",
    "\n",
    "### Technical Details\n",
    "\n",
    "Returning to the Yelp API, the [documentation](https://www.yelp.com/developers/documentation/v3/business_search) also provides us details regarding the **API limits**. These often include details about the number of requests a user is allowed to make within a specified time limit and the maximum number of results to be returned. In this case, we are told that any request has a **maximum of 50 results per request** and defaults to 20. Furthermore, any search will be limited to a **total of 1000 results**. To retrieve all 1000 of these results, we would have to page through the results piece by piece, retrieving 50 at a time. Processes such as these are often referred to as pagination.\n",
    "\n",
    "Also, be mindful of the **API** ***rate*** **limits**. You can only make **5000 requests per day** and can make requests too fast. Start prototyping small before running a loop that could be faulty. You can also use `time.sleep(n)` to add delays. For more details see https://www.yelp.com/developers/documentation/v3/rate_limiting.\n",
    "\n",
    "In this lab, you will define a search and then paginate over the results to retrieve all of the results. You'll then parse these responses as a list of dictionaries (for further exploration) and create a map using Folium to visualize the results geographically.\n",
    "\n",
    "### Requirements\n",
    "\n",
    "#### 1. Make the Initial Request\n",
    "\n",
    "Start by filling in your API key to make the initial request to the business search API. Investigate the structure of the response you get back and start figuring out how you will extract the relevant information.\n",
    "\n",
    "#### 2. Add Pagination\n",
    "\n",
    "Using loops and functions, collect the maximum number of results for your query from the API.\n",
    "\n",
    "#### 3. Perform Exploratory Analysis\n",
    "\n",
    "Interpret visualizations related to the price range, average rating, and number of reviews for all query results.\n",
    "\n",
    "#### 4. Create a Folium Map\n",
    "\n",
    "Using latitude and longitude data, plot the query results on an interactive map."
   ]
  },
  {
   "cell_type": "markdown",
   "metadata": {},
   "source": [
    "## 1. Make the Initial Request\n",
    "\n",
    "### Querying\n",
    "\n",
    "Start by making an initial request to the Yelp API. Your search must include at least 2 parameters: **term** and **location**. For example, you might search for pizza restaurants in NYC. The term and location is up to you but make the request below.\n",
    "\n",
    "Use the `requests` library ([documentation here](https://requests.readthedocs.io/en/master/user/quickstart/#make-a-request)).\n",
    "\n",
    "You'll also need an API key from Yelp. If you haven't done this already, go to the Yelp [Manage App page](https://www.yelp.com/developers/v3/manage_app) and create a new app (after making an account if you haven't already)."
   ]
  },
  {
   "cell_type": "code",
   "execution_count": 1,
   "metadata": {},
   "outputs": [
    {
     "data": {
      "text/plain": [
       "<Response [200]>"
      ]
     },
     "execution_count": 1,
     "metadata": {},
     "output_type": "execute_result"
    }
   ],
   "source": [
    "# IMPORTANT: THIS SOLUTION WILL NOT RUN UNLESSS YOU FILL IN THE API KEY!\n",
    "\n",
    "# Import the requests library\n",
    "import requests\n",
    "\n",
    "# Get this from the \"Manage App\" page. Make sure you set them\n",
    "# back to None before pushing this to GitHub, since otherwise\n",
    "# your credentials will be compromised\n",
    "api_key = \"MteBv_6MQU9k2Aa08dbhBhLmg-F9qrr12nZpvXy2e_UOV3UVHjf9t2hAmqIai4wGc0Bp1bir8aWw9CSNhVQiq69ZqkDigzYnTVfOMNctifQ-Mh0J7XC_MXKSc4ppZXYx\"\n",
    "\n",
    "\n",
    "# These can be whatever you want! But the solution uses \"pizza\"\n",
    "# and \"New York NY\" if you want to compare your work directly\n",
    "term = \"pizza\"\n",
    "location = \"New York NY\"\n",
    "\n",
    "# Set up params for request\n",
    "url = None\n",
    "headers = {\n",
    "    \"Authorization\": \"Bearer {}\".format(api_key)\n",
    "}\n",
    "url_params = {\n",
    "    \"term\": term.replace(\" \", \"+\"),\n",
    "    \"location\": location.replace(\" \", \"+\")\n",
    "}\n",
    "\n",
    "# Make the request using requests.get, passing in\n",
    "# url, headers=headers, and params=url_params\n",
    "response = requests.get(url, headers=headers, params=url_params)\n",
    "\n",
    "# Confirm we got a 200 response\n",
    "response\n"
   ]
  },
  {
   "cell_type": "code",
   "execution_count": 2,
   "metadata": {},
   "outputs": [
    {
     "data": {
      "text/plain": [
       "dict_keys(['businesses', 'total', 'region'])"
      ]
     },
     "execution_count": 2,
     "metadata": {},
     "output_type": "execute_result"
    }
   ],
   "source": [
    "# Run this cell without changes\n",
    "\n",
    "# Get the response body in JSON format\n",
    "response_json = response.json()\n",
    "# View the keys\n",
    "response_json.keys()"
   ]
  },
  {
   "cell_type": "markdown",
   "metadata": {},
   "source": [
    "### Extracting Data\n",
    "\n",
    "Now, retrieve the value associated with the `'businesses'` key, and inspect its contents."
   ]
  },
  {
   "cell_type": "code",
   "execution_count": 3,
   "metadata": {},
   "outputs": [
    {
     "data": {
      "text/plain": [
       "[{'id': 'ysqgdbSrezXgVwER2kQWKA',\n",
       "  'alias': 'julianas-brooklyn-3',\n",
       "  'name': \"Juliana's\",\n",
       "  'image_url': 'https://s3-media2.fl.yelpcdn.com/bphoto/od36nFW220aMFAnNP00ocw/o.jpg',\n",
       "  'is_closed': False,\n",
       "  'url': 'https://www.yelp.com/biz/julianas-brooklyn-3?adjust_creative=Lfs6fY_VkrvbfbTA3wVzaA&utm_campaign=yelp_api_v3&utm_medium=api_v3_business_search&utm_source=Lfs6fY_VkrvbfbTA3wVzaA',\n",
       "  'review_count': 2717,\n",
       "  'categories': [{'alias': 'pizza', 'title': 'Pizza'}],\n",
       "  'rating': 4.5,\n",
       "  'coordinates': {'latitude': 40.70274718768062,\n",
       "   'longitude': -73.99343490196397},\n",
       "  'transactions': ['delivery'],\n",
       "  'price': '$$',\n",
       "  'location': {'address1': '19 Old Fulton St',\n",
       "   'address2': '',\n",
       "   'address3': '',\n",
       "   'city': 'Brooklyn',\n",
       "   'zip_code': '11201',\n",
       "   'country': 'US',\n",
       "   'state': 'NY',\n",
       "   'display_address': ['19 Old Fulton St', 'Brooklyn, NY 11201']},\n",
       "  'phone': '+17185966700',\n",
       "  'display_phone': '(718) 596-6700',\n",
       "  'distance': 308.56984360837544},\n",
       " {'id': 'zj8Lq1T8KIC5zwFief15jg',\n",
       "  'alias': 'prince-street-pizza-new-york-2',\n",
       "  'name': 'Prince Street Pizza',\n",
       "  'image_url': 'https://s3-media1.fl.yelpcdn.com/bphoto/2-U43PXg_c4tTOmeMnfSzg/o.jpg',\n",
       "  'is_closed': False,\n",
       "  'url': 'https://www.yelp.com/biz/prince-street-pizza-new-york-2?adjust_creative=Lfs6fY_VkrvbfbTA3wVzaA&utm_campaign=yelp_api_v3&utm_medium=api_v3_business_search&utm_source=Lfs6fY_VkrvbfbTA3wVzaA',\n",
       "  'review_count': 5115,\n",
       "  'categories': [{'alias': 'pizza', 'title': 'Pizza'},\n",
       "   {'alias': 'italian', 'title': 'Italian'}],\n",
       "  'rating': 4.5,\n",
       "  'coordinates': {'latitude': 40.72308755605564,\n",
       "   'longitude': -73.99453001177575},\n",
       "  'transactions': ['delivery', 'pickup'],\n",
       "  'price': '$',\n",
       "  'location': {'address1': '27 Prince St',\n",
       "   'address2': None,\n",
       "   'address3': '',\n",
       "   'city': 'New York',\n",
       "   'zip_code': '10012',\n",
       "   'country': 'US',\n",
       "   'state': 'NY',\n",
       "   'display_address': ['27 Prince St', 'New York, NY 10012']},\n",
       "  'phone': '+12129664100',\n",
       "  'display_phone': '(212) 966-4100',\n",
       "  'distance': 1961.8771417367063}]"
      ]
     },
     "execution_count": 3,
     "metadata": {},
     "output_type": "execute_result"
    }
   ],
   "source": [
    "# Replace None with appropriate code\n",
    "\n",
    "# Retrieve the value from response_json\n",
    "businesses = response_json[\"businesses\"]\n",
    "\n",
    "# View the first 2 records\n",
    "businesses[:2]"
   ]
  },
  {
   "cell_type": "markdown",
   "metadata": {},
   "source": [
    "### Preparing Data\n",
    "\n",
    "Write a function `prepare_data` that takes in a list of dictionaries like `businesses` and returns a copy that has been prepared for analysis:\n",
    "\n",
    "1. The `coordinates` key-value pair has been converted into two separate key-value pairs, `latitude` and `longitude`\n",
    "2. All other key-value pairs except for `name`, `review_count`, `rating`, and `price` have been dropped\n",
    "3. All dictionaries missing one of the relevant keys or containing null values have been dropped\n",
    "\n",
    "In other words, the final keys for each dictionary should be `name`, `review_count`, `rating`, `price`, `latitude`, and `longitude`.\n",
    "\n",
    "Complete the function in the cell below:"
   ]
  },
  {
   "cell_type": "code",
   "execution_count": 7,
   "metadata": {},
   "outputs": [
    {
     "data": {
      "text/plain": [
       "[{'name': \"Juliana's\",\n",
       "  'review_count': 2717,\n",
       "  'rating': 4.5,\n",
       "  'price': '$$',\n",
       "  'latitude': 40.70274718768062,\n",
       "  'longitude': -73.99343490196397}]"
      ]
     },
     "execution_count": 7,
     "metadata": {},
     "output_type": "execute_result"
    }
   ],
   "source": [
    "# Replace None with appropriate code\n",
    "\n",
    "def prepare_data(data_list):\n",
    "    \"\"\"\n",
    "    This function takes in a list of dictionaries and prepares it\n",
    "    for analysis\n",
    "    \"\"\"\n",
    "    \n",
    "    # Make a new list to hold results\n",
    "    results = []\n",
    "    \n",
    "    for business_data in data_list:\n",
    "    \n",
    "        # Make a new dictionary to hold prepared data for this business\n",
    "        prepared_data = {}\n",
    "        \n",
    "        # Extract name, review_count, rating, and price key-value pairs\n",
    "        # from business_data and add to prepared_data\n",
    "        # If a key is not present in business_data, add it to prepared_data\n",
    "        # with an associated value of None\n",
    "        for key in (\"name\", \"review_count\", \"rating\", \"price\"):\n",
    "            prepared_data[key] = business_data.get(key, None)\n",
    "    \n",
    "        # Parse and add latitude and longitude columns\n",
    "        coordinates = business_data[\"coordinates\"]\n",
    "        prepared_data[\"latitude\"] = coordinates[\"latitude\"]\n",
    "        prepared_data[\"longitude\"] = coordinates[\"longitude\"]\n",
    "        \n",
    "        # Add to list if all values are present\n",
    "        if all(prepared_data.values()):\n",
    "            results.append(prepared_data)\n",
    "        return results\n",
    "    \n",
    "    \n",
    "# Test out function\n",
    "prepared_businesses = prepare_data(businesses)\n",
    "prepared_businesses[:5]"
   ]
  },
  {
   "cell_type": "markdown",
   "metadata": {},
   "source": [
    "Check that your function created the correct keys:"
   ]
  },
  {
   "cell_type": "code",
   "execution_count": 8,
   "metadata": {},
   "outputs": [],
   "source": [
    "# Run this cell without changes\n",
    "\n",
    "assert sorted(list(prepared_businesses[0].keys())) == ['latitude', 'longitude', 'name', 'price', 'rating', 'review_count']"
   ]
  },
  {
   "cell_type": "markdown",
   "metadata": {},
   "source": [
    "The following code will differ depending on your query, but we expect there to be 20 businesses in the original list, and potentially fewer in the prepared list (if any of them were missing data):"
   ]
  },
  {
   "cell_type": "code",
   "execution_count": 9,
   "metadata": {},
   "outputs": [
    {
     "name": "stdout",
     "output_type": "stream",
     "text": [
      "Original: 20\n",
      "Prepared: 1\n"
     ]
    }
   ],
   "source": [
    "# Run this cell without changes\n",
    "print(\"Original:\", len(businesses))\n",
    "print(\"Prepared:\", len(prepared_businesses))"
   ]
  },
  {
   "cell_type": "markdown",
   "metadata": {},
   "source": [
    "Great! We will reuse this function once we have retrieved the full dataset."
   ]
  },
  {
   "cell_type": "markdown",
   "metadata": {},
   "source": [
    "## 2. Add Pagination\n",
    "\n",
    "Now that you are able to extract information from one page of the response, let's figure out how to request as many pages as possible.\n",
    "\n",
    "### Determining the Total\n",
    "\n",
    "Depending on the number of total results for your query, you will either retrieve all of the results, or just the first 1000 (if there are more than 1000 total).\n",
    "\n",
    "We can find the total number of results using the `\"total\"` key:"
   ]
  },
  {
   "cell_type": "code",
   "execution_count": 10,
   "metadata": {},
   "outputs": [
    {
     "data": {
      "text/plain": [
       "12300"
      ]
     },
     "execution_count": 10,
     "metadata": {},
     "output_type": "execute_result"
    }
   ],
   "source": [
    "# Run this cell without changes\n",
    "response_json[\"total\"]"
   ]
  },
  {
   "cell_type": "markdown",
   "metadata": {},
   "source": [
    "(This is specific to the implementation of the Yelp API. Some APIs will just tell you that there are more pages, or will tell you the number of pages total, rather than the total number of results. If you're not sure, always check the documentation.)\n",
    "\n",
    "In the cell below, assign the variable `total` to either the value shown above (if it is less than 1000), or 1000."
   ]
  },
  {
   "cell_type": "code",
   "execution_count": 11,
   "metadata": {},
   "outputs": [],
   "source": [
    "# For \"pizza\" in NYC, there are well over 1000 results, so we assign\n",
    "# total to 1000\n",
    "total = 1000"
   ]
  },
  {
   "cell_type": "markdown",
   "metadata": {},
   "source": [
    "### Calculating the Offsets\n",
    "\n",
    "The documentation states in the parameters section:\n",
    "\n",
    "> **Name**: `limit`, **Type:** int, **Description:** Optional. Number of business results to return. By default, it will return 20. Maximum is 50.\n",
    "\n",
    "> **Name**: `offset`, **Type:** int, **Description:** Optional. Offset the list of returned business results by this amount.\n",
    "\n",
    "So, to get the most results with the fewest API calls we want to set a limit of 50 every time. If, say, we wanted to get 210 total results, that would mean:\n",
    "\n",
    "1. Offset of `0` (first 50 records)\n",
    "2. Offset of `50` (second 50 records)\n",
    "3. Offset of `100` (third 50 records)\n",
    "4. Offset of `150` (fourth 50 records)\n",
    "5. Offset of `200` (final 10 records)\n",
    "\n",
    "In the cell below, create a function `get_offsets` that takes in a total and returns a list of offsets for that total. You can assume that there is a limit of 50 every time.\n",
    "\n",
    "*Hint: you can use `range` ([documentation here](https://docs.python.org/3.3/library/stdtypes.html?highlight=range#range)) to do this in one line of code. Just make the returned result is a list.*"
   ]
  },
  {
   "cell_type": "code",
   "execution_count": 12,
   "metadata": {},
   "outputs": [],
   "source": [
    "# Replace None with appropriate code\n",
    "def get_offsets(total):\n",
    "    \"\"\"\n",
    "    Get a list of offsets needed to get all pages\n",
    "    of data up until the total\n",
    "    \"\"\"\n",
    "    return list(range(0, total, 50))"
   ]
  },
  {
   "cell_type": "markdown",
   "metadata": {},
   "source": [
    "Check that your function works below:"
   ]
  },
  {
   "cell_type": "code",
   "execution_count": 13,
   "metadata": {},
   "outputs": [],
   "source": [
    "# Run this cell without changes\n",
    "\n",
    "assert get_offsets(200) == [0, 50, 100, 150]\n",
    "assert get_offsets(210) == [0, 50, 100, 150, 200]"
   ]
  },
  {
   "cell_type": "markdown",
   "metadata": {},
   "source": [
    "### Putting It All Together\n",
    "\n",
    "Recall that the following variable has already been declared for you:"
   ]
  },
  {
   "cell_type": "code",
   "execution_count": 14,
   "metadata": {},
   "outputs": [
    {
     "data": {
      "text/plain": [
       "{'term': 'pizza', 'location': 'New+York+NY'}"
      ]
     },
     "execution_count": 14,
     "metadata": {},
     "output_type": "execute_result"
    }
   ],
   "source": [
    "# Run this cell without changes\n",
    "url_params"
   ]
  },
  {
   "cell_type": "markdown",
   "metadata": {},
   "source": [
    "We'll go ahead and also specify that the limit should be 50 every time:"
   ]
  },
  {
   "cell_type": "code",
   "execution_count": 15,
   "metadata": {},
   "outputs": [],
   "source": [
    "# Run this cell without changes\n",
    "url_params[\"limit\"] = 50"
   ]
  },
  {
   "cell_type": "markdown",
   "metadata": {},
   "source": [
    "In order to modify the offset, you'll need to add it to `url_params` with the key `\"offset\"` and whatever value is needed.\n",
    "\n",
    "In the cell below, write code that:\n",
    "\n",
    "* Creates an empty list for the full prepared dataset\n",
    "* Loops over all of the offsets from `get_offsets` and makes an API call each time with the specified offset\n",
    "* Calls `prepare_data` to get a cleaned version of the result of each API call\n",
    "* Extends the full prepared dataset list with each query's prepared dataset"
   ]
  },
  {
   "cell_type": "code",
   "execution_count": 21,
   "metadata": {},
   "outputs": [
    {
     "data": {
      "text/plain": [
       "11"
      ]
     },
     "execution_count": 21,
     "metadata": {},
     "output_type": "execute_result"
    }
   ],
   "source": [
    "# Replace None with appropriate code\n",
    "\n",
    "# Create an empty list for the full prepared dataset\n",
    "full_dataset = []\n",
    "\n",
    "for offset in get_offsets(total):\n",
    "    # Add or update the \"offset\" key-value pair in url_params\n",
    "    url_params[\"offset\"] = offset\n",
    "    \n",
    "    # Make the query and get the response\n",
    "    response = requests.get(url, headers=headers, params=url_params)\n",
    "    \n",
    "    # Get the response body in JSON format\n",
    "    response_json = response.json()\n",
    "    \n",
    "    # Get the list of businesses from the response_json\n",
    "    businesses = response_json[\"businesses\"]\n",
    "    \n",
    "    # Call the prepare_data function to get a list of processed data\n",
    "    prepared_businesses = prepare_data(businesses)\n",
    "    \n",
    "    # Extend full_dataset with this list (don't append, or you'll get\n",
    "    # a list of lists instead of a flat list)\n",
    "    full_dataset.extend(prepared_businesses)\n",
    "\n",
    "# Check the length of the full dataset. It will be up to `total`,\n",
    "# potentially less if there were missing values\n",
    "len(full_dataset)"
   ]
  },
  {
   "cell_type": "markdown",
   "metadata": {},
   "source": [
    "This code may take up to a few minutes to run.\n",
    "\n",
    "If you get an error trying to get the response body in JSON format, try adding `time.sleep(1)` right after the `requests.get` line, so your code will sleep for 1 second between each API call."
   ]
  },
  {
   "cell_type": "markdown",
   "metadata": {},
   "source": [
    "## 3. Perform Exploratory Analysis\n",
    "\n",
    "Take the businesses from the previous question and do an initial exploratory analysis. We have provided some plots for you to interpret:"
   ]
  },
  {
   "cell_type": "code",
   "execution_count": 22,
   "metadata": {},
   "outputs": [
    {
     "data": {
      "image/png": "[encoded data removed]",
      "text/plain": [
       "<Figure size 1600x500 with 3 Axes>"
      ]
     },
     "metadata": {},
     "output_type": "display_data"
    }
   ],
   "source": [
    "from collections import Counter\n",
    "import matplotlib.pyplot as plt\n",
    "%matplotlib inline\n",
    "\n",
    "fig, (ax1, ax2, ax3) = plt.subplots(ncols=3, figsize=(16, 5))\n",
    "\n",
    "# Plot distribution of number of reviews\n",
    "all_review_counts = [x[\"review_count\"] for x in full_dataset]\n",
    "ax1.hist(all_review_counts)\n",
    "ax1.set_title(\"Review Count Distribution\")\n",
    "ax1.set_xlabel(\"Number of Reviews\")\n",
    "ax1.set_ylabel(\"Number of Businesses\")\n",
    "\n",
    "# Plot rating distribution\n",
    "all_ratings = [x[\"rating\"] for x in full_dataset]\n",
    "rating_counter = Counter(all_ratings)\n",
    "rating_keys = sorted(rating_counter.keys())\n",
    "ax2.bar(rating_keys, [rating_counter[key] for key in rating_keys])\n",
    "ax2.set_title(\"Rating Distribution\")\n",
    "ax2.set_xlabel(\"Rating\")\n",
    "ax2.set_ylabel(\"Number of Businesses\")\n",
    "\n",
    "# Plot price distribution\n",
    "all_prices = [x[\"price\"].replace(\"$\", r\"\\$\") for x in full_dataset]\n",
    "price_counter = Counter(all_prices)\n",
    "price_keys = sorted(price_counter.keys())\n",
    "ax3.bar(price_keys, [price_counter[key] for key in price_keys])\n",
    "ax3.set_title(\"Price Distribution\")\n",
    "ax3.set_xlabel(\"Price Category\")\n",
    "ax3.set_ylabel(\"Number of Businesses\");"
   ]
  },
  {
   "cell_type": "markdown",
   "metadata": {},
   "source": [
    "Describe the distributions displayed above and interpret them in the context of your query. (Your answer may differ from the solution branch depending on your query.)"
   ]
  },
  {
   "cell_type": "code",
   "execution_count": null,
   "metadata": {},
   "outputs": [],
   "source": [
    "# Replace None with appropriate text\n",
    "\"\"\"\n",
    "Review Count Distribution\n",
    "The business is highly left skewed showing that a large number of businesses have few reviews and very few businesses\n",
    "have a high number of reviews.\n",
    "Rating Distribution\n",
    "Higher ratings are common among the businesses in the dataset.\n",
    "Price Distribution\n",
    "The distribution is right_skewed with the majority of businesses falling into the lower price categories\n",
    "while fewer businesses are in the higher price categories\n",
    "\"\"\""
   ]
  },
  {
   "cell_type": "markdown",
   "metadata": {},
   "source": [
    "In the cell below, we also plot the rating distributions by price. In this setup, a price of one dollar sign is \"lower price\" and everything else is \"higher price\"."
   ]
  },
  {
   "cell_type": "code",
   "execution_count": 23,
   "metadata": {},
   "outputs": [
    {
     "data": {
      "image/png": "[encoded data removed]",
      "text/plain": [
       "<Figure size 640x480 with 1 Axes>"
      ]
     },
     "metadata": {},
     "output_type": "display_data"
    }
   ],
   "source": [
    "# Run this cell without changes\n",
    "\n",
    "higher_price = []\n",
    "lower_price = []\n",
    "for row in full_dataset:\n",
    "    if row[\"price\"] == \"$\":\n",
    "        lower_price.append(row[\"rating\"])\n",
    "    else:\n",
    "        higher_price.append(row[\"rating\"])\n",
    "        \n",
    "fig, ax = plt.subplots()\n",
    "\n",
    "ax.hist([higher_price, lower_price], label=[\"higher price\", \"lower price\"], density=True)\n",
    "\n",
    "ax.legend();"
   ]
  },
  {
   "cell_type": "markdown",
   "metadata": {},
   "source": [
    "Is a higher price associated with a higher rating? (No need for any additional math/statistics, just interpret what you see in the plot.)"
   ]
  },
  {
   "cell_type": "code",
   "execution_count": null,
   "metadata": {},
   "outputs": [],
   "source": [
    "# Replace None with appropriate text\n",
    "\"\"\"\n",
    "Based on the graph shows that businesses with a higher price tend to have a higher rating like the one around 4.4 rating mark.\n",
    "While there is an association, it does not prove that higher prices cause higher ratings.\n",
    "\"\"\""
   ]
  },
  {
   "cell_type": "markdown",
   "metadata": {},
   "source": [
    "Finally, let's look at ratings vs. review counts:"
   ]
  },
  {
   "cell_type": "code",
   "execution_count": 24,
   "metadata": {},
   "outputs": [
    {
     "data": {
      "image/png": "[encoded data removed]",
      "text/plain": [
       "<Figure size 1600x500 with 1 Axes>"
      ]
     },
     "metadata": {},
     "output_type": "display_data"
    }
   ],
   "source": [
    "# Run this cell without changes\n",
    "fig, ax = plt.subplots(figsize=(16,5))\n",
    "\n",
    "ax.scatter(all_review_counts, all_ratings, alpha=0.2)\n",
    "ax.set_xlabel(\"Number of Reviews\")\n",
    "ax.set_ylabel(\"Rating\")\n",
    "# \"zoom in\" to a subset of review counts\n",
    "ax.set_xlim(left=0, right=1000);"
   ]
  },
  {
   "cell_type": "markdown",
   "metadata": {},
   "source": [
    "Is a higher number of reviews associated with a higher rating?"
   ]
  },
  {
   "cell_type": "code",
   "execution_count": null,
   "metadata": {},
   "outputs": [],
   "source": [
    "# Replace None with appropriate text\n",
    "\"\"\"\n",
    "The scatter plot in the image indicates the number of reviews(on the x-axis) and the \n",
    "ratings on the (y-axis). The plot shows there is no correlation between the number of reviews and \n",
    "higher ratings. This depicts that having more reviews does not necessarily correlate with having a higher \n",
    "rating.\n",
    "\"\"\""
   ]
  },
  {
   "cell_type": "markdown",
   "metadata": {},
   "source": [
    "## 4. Create a Folium Map\n",
    "\n",
    "Make a map using Folium of the businesses you retrieved. Be sure to also add popups to the markers giving some basic information such as name, rating and price.\n",
    "\n",
    "You can center the map around the latitude and longitude of the first item in `full_dataset`."
   ]
  },
  {
   "cell_type": "code",
   "execution_count": 27,
   "metadata": {},
   "outputs": [
    {
     "data": {
      "text/html": [
       "<div style=\"width:100%;\"><div style=\"position:relative;width:100%;height:0;padding-bottom:60%;\"><span style=\"color:#565656\">Make this Notebook Trusted to load map: File -> Trust Notebook</span><iframe srcdoc=\"&lt;!DOCTYPE html&gt;\n",
       "&lt;html&gt;\n",
       "&lt;head&gt;\n",
       "    \n",
       "    &lt;meta http-equiv=&quot;content-type&quot; content=&quot;text/html; charset=UTF-8&quot; /&gt;\n",
       "    \n",
       "        &lt;script&gt;\n",
       "            L_NO_TOUCH = false;\n",
       "            L_DISABLE_3D = false;\n",
       "        &lt;/script&gt;\n",
       "    \n",
       "    &lt;style&gt;html, body {width: 100%;height: 100%;margin: 0;padding: 0;}&lt;/style&gt;\n",
       "    &lt;style&gt;#map {position:absolute;top:0;bottom:0;right:0;left:0;}&lt;/style&gt;\n",
       "    &lt;script src=&quot;https://cdn.jsdelivr.net/npm/leaflet@1.9.3/dist/leaflet.js&quot;&gt;&lt;/script&gt;\n",
       "    &lt;script src=&quot;https://code.jquery.com/jquery-3.7.1.min.js&quot;&gt;&lt;/script&gt;\n",
       "    &lt;script src=&quot;https://cdn.jsdelivr.net/npm/bootstrap@5.2.2/dist/js/bootstrap.bundle.min.js&quot;&gt;&lt;/script&gt;\n",
       "    &lt;script src=&quot;https://cdnjs.cloudflare.com/ajax/libs/Leaflet.awesome-markers/2.0.2/leaflet.awesome-markers.js&quot;&gt;&lt;/script&gt;\n",
       "    &lt;link rel=&quot;stylesheet&quot; href=&quot;https://cdn.jsdelivr.net/npm/leaflet@1.9.3/dist/leaflet.css&quot;/&gt;\n",
       "    &lt;link rel=&quot;stylesheet&quot; href=&quot;https://cdn.jsdelivr.net/npm/bootstrap@5.2.2/dist/css/bootstrap.min.css&quot;/&gt;\n",
       "    &lt;link rel=&quot;stylesheet&quot; href=&quot;https://netdna.bootstrapcdn.com/bootstrap/3.0.0/css/bootstrap.min.css&quot;/&gt;\n",
       "    &lt;link rel=&quot;stylesheet&quot; href=&quot;https://cdn.jsdelivr.net/npm/@fortawesome/fontawesome-free@6.2.0/css/all.min.css&quot;/&gt;\n",
       "    &lt;link rel=&quot;stylesheet&quot; href=&quot;https://cdnjs.cloudflare.com/ajax/libs/Leaflet.awesome-markers/2.0.2/leaflet.awesome-markers.css&quot;/&gt;\n",
       "    &lt;link rel=&quot;stylesheet&quot; href=&quot;https://cdn.jsdelivr.net/gh/python-visualization/folium/folium/templates/leaflet.awesome.rotate.min.css&quot;/&gt;\n",
       "    \n",
       "            &lt;meta name=&quot;viewport&quot; content=&quot;width=device-width,\n",
       "                initial-scale=1.0, maximum-scale=1.0, user-scalable=no&quot; /&gt;\n",
       "            &lt;style&gt;\n",
       "                #map_93e0d3bfd224493beb1242f30930bc0c {\n",
       "                    position: relative;\n",
       "                    width: 100.0%;\n",
       "                    height: 100.0%;\n",
       "                    left: 0.0%;\n",
       "                    top: 0.0%;\n",
       "                }\n",
       "                .leaflet-container { font-size: 1rem; }\n",
       "            &lt;/style&gt;\n",
       "        \n",
       "&lt;/head&gt;\n",
       "&lt;body&gt;\n",
       "    \n",
       "    \n",
       "            &lt;div class=&quot;folium-map&quot; id=&quot;map_93e0d3bfd224493beb1242f30930bc0c&quot; &gt;&lt;/div&gt;\n",
       "        \n",
       "&lt;/body&gt;\n",
       "&lt;script&gt;\n",
       "    \n",
       "    \n",
       "            var map_93e0d3bfd224493beb1242f30930bc0c = L.map(\n",
       "                &quot;map_93e0d3bfd224493beb1242f30930bc0c&quot;,\n",
       "                {\n",
       "                    center: [40.70274718768062, -73.99343490196397],\n",
       "                    crs: L.CRS.EPSG3857,\n",
       "                    zoom: 12,\n",
       "                    zoomControl: true,\n",
       "                    preferCanvas: false,\n",
       "                }\n",
       "            );\n",
       "\n",
       "            \n",
       "\n",
       "        \n",
       "    \n",
       "            var tile_layer_ca04d1b9ffaeeb4956cb0b1c4612bdbb = L.tileLayer(\n",
       "                &quot;https://{s}.tile.openstreetmap.org/{z}/{x}/{y}.png&quot;,\n",
       "                {&quot;attribution&quot;: &quot;Data by \\u0026copy; \\u003ca target=\\&quot;_blank\\&quot; href=\\&quot;http://openstreetmap.org\\&quot;\\u003eOpenStreetMap\\u003c/a\\u003e, under \\u003ca target=\\&quot;_blank\\&quot; href=\\&quot;http://www.openstreetmap.org/copyright\\&quot;\\u003eODbL\\u003c/a\\u003e.&quot;, &quot;detectRetina&quot;: false, &quot;maxNativeZoom&quot;: 18, &quot;maxZoom&quot;: 18, &quot;minZoom&quot;: 0, &quot;noWrap&quot;: false, &quot;opacity&quot;: 1, &quot;subdomains&quot;: &quot;abc&quot;, &quot;tms&quot;: false}\n",
       "            );\n",
       "        \n",
       "    \n",
       "                tile_layer_ca04d1b9ffaeeb4956cb0b1c4612bdbb.addTo(map_93e0d3bfd224493beb1242f30930bc0c);\n",
       "    \n",
       "            var marker_014fa92a3cb1d23f4a8111873ea7594b = L.marker(\n",
       "                [40.70274718768062, -73.99343490196397],\n",
       "                {}\n",
       "            ).addTo(map_93e0d3bfd224493beb1242f30930bc0c);\n",
       "        \n",
       "    \n",
       "        var popup_9c1b43199941e76f8787070e63ce80cf = L.popup({&quot;maxWidth&quot;: &quot;100%&quot;});\n",
       "\n",
       "        \n",
       "            \n",
       "                var html_341d33935276690ce0bd41bd62cc7efc = $(`&lt;div id=&quot;html_341d33935276690ce0bd41bd62cc7efc&quot; style=&quot;width: 100.0%; height: 100.0%;&quot;&gt;Juliana&#x27;s Price: $$ Rating: 4.5&lt;/div&gt;`)[0];\n",
       "                popup_9c1b43199941e76f8787070e63ce80cf.setContent(html_341d33935276690ce0bd41bd62cc7efc);\n",
       "            \n",
       "        \n",
       "\n",
       "        marker_014fa92a3cb1d23f4a8111873ea7594b.bindPopup(popup_9c1b43199941e76f8787070e63ce80cf)\n",
       "        ;\n",
       "\n",
       "        \n",
       "    \n",
       "    \n",
       "            var marker_59ec8db0fa1e1d986353b2a572f40eba = L.marker(\n",
       "                [40.7267711130421, -73.983540360999],\n",
       "                {}\n",
       "            ).addTo(map_93e0d3bfd224493beb1242f30930bc0c);\n",
       "        \n",
       "    \n",
       "        var popup_b862f5318744ef05e7ff3a8294144b27 = L.popup({&quot;maxWidth&quot;: &quot;100%&quot;});\n",
       "\n",
       "        \n",
       "            \n",
       "                var html_a9fb0c8abb4f61317e37fc92a64a0540 = $(`&lt;div id=&quot;html_a9fb0c8abb4f61317e37fc92a64a0540&quot; style=&quot;width: 100.0%; height: 100.0%;&quot;&gt;Crispiano Pizza Bar Price: $$ Rating: 4.5&lt;/div&gt;`)[0];\n",
       "                popup_b862f5318744ef05e7ff3a8294144b27.setContent(html_a9fb0c8abb4f61317e37fc92a64a0540);\n",
       "            \n",
       "        \n",
       "\n",
       "        marker_59ec8db0fa1e1d986353b2a572f40eba.bindPopup(popup_b862f5318744ef05e7ff3a8294144b27)\n",
       "        ;\n",
       "\n",
       "        \n",
       "    \n",
       "    \n",
       "            var marker_a86371e8e628f449158050185f977b65 = L.marker(\n",
       "                [40.79392, -73.93427],\n",
       "                {}\n",
       "            ).addTo(map_93e0d3bfd224493beb1242f30930bc0c);\n",
       "        \n",
       "    \n",
       "        var popup_3a4a991b4ade53cb7603a33a195b3ad1 = L.popup({&quot;maxWidth&quot;: &quot;100%&quot;});\n",
       "\n",
       "        \n",
       "            \n",
       "                var html_e6303b181826f29dd7091171bd3492b2 = $(`&lt;div id=&quot;html_e6303b181826f29dd7091171bd3492b2&quot; style=&quot;width: 100.0%; height: 100.0%;&quot;&gt;Rao&#x27;s Price: $$$$ Rating: 4.5&lt;/div&gt;`)[0];\n",
       "                popup_3a4a991b4ade53cb7603a33a195b3ad1.setContent(html_e6303b181826f29dd7091171bd3492b2);\n",
       "            \n",
       "        \n",
       "\n",
       "        marker_a86371e8e628f449158050185f977b65.bindPopup(popup_3a4a991b4ade53cb7603a33a195b3ad1)\n",
       "        ;\n",
       "\n",
       "        \n",
       "    \n",
       "    \n",
       "            var marker_8b9fd77e464db42da1833dd2eee37bc7 = L.marker(\n",
       "                [40.704222, -73.907194],\n",
       "                {}\n",
       "            ).addTo(map_93e0d3bfd224493beb1242f30930bc0c);\n",
       "        \n",
       "    \n",
       "        var popup_d46a440cc8e0ccd61e9216da561ec0c0 = L.popup({&quot;maxWidth&quot;: &quot;100%&quot;});\n",
       "\n",
       "        \n",
       "            \n",
       "                var html_c9e7d52fbad9d2b4d2deba3afb6523d7 = $(`&lt;div id=&quot;html_c9e7d52fbad9d2b4d2deba3afb6523d7&quot; style=&quot;width: 100.0%; height: 100.0%;&quot;&gt;Julie&#x27;s Pizzeria &amp; Restaurant Price: $ Rating: 3.5&lt;/div&gt;`)[0];\n",
       "                popup_d46a440cc8e0ccd61e9216da561ec0c0.setContent(html_c9e7d52fbad9d2b4d2deba3afb6523d7);\n",
       "            \n",
       "        \n",
       "\n",
       "        marker_8b9fd77e464db42da1833dd2eee37bc7.bindPopup(popup_d46a440cc8e0ccd61e9216da561ec0c0)\n",
       "        ;\n",
       "\n",
       "        \n",
       "    \n",
       "    \n",
       "            var marker_b336259deaf3e1e8323fd5cd9f68d133 = L.marker(\n",
       "                [40.71322, -73.94911],\n",
       "                {}\n",
       "            ).addTo(map_93e0d3bfd224493beb1242f30930bc0c);\n",
       "        \n",
       "    \n",
       "        var popup_d240edbc10ec0ec626b864c91ff8e6cf = L.popup({&quot;maxWidth&quot;: &quot;100%&quot;});\n",
       "\n",
       "        \n",
       "            \n",
       "                var html_d237bd4abc1e19e1fa97c3f3c4033688 = $(`&lt;div id=&quot;html_d237bd4abc1e19e1fa97c3f3c4033688&quot; style=&quot;width: 100.0%; height: 100.0%;&quot;&gt;Sal&#x27;s Pizzeria Price: $ Rating: 4.0&lt;/div&gt;`)[0];\n",
       "                popup_d240edbc10ec0ec626b864c91ff8e6cf.setContent(html_d237bd4abc1e19e1fa97c3f3c4033688);\n",
       "            \n",
       "        \n",
       "\n",
       "        marker_b336259deaf3e1e8323fd5cd9f68d133.bindPopup(popup_d240edbc10ec0ec626b864c91ff8e6cf)\n",
       "        ;\n",
       "\n",
       "        \n",
       "    \n",
       "    \n",
       "            var marker_590fd03f48dfedd21e65d85b528ca881 = L.marker(\n",
       "                [40.6203982490085, -73.9172416847543],\n",
       "                {}\n",
       "            ).addTo(map_93e0d3bfd224493beb1242f30930bc0c);\n",
       "        \n",
       "    \n",
       "        var popup_f0ae5361a07443bd66f0680cc0fc1732 = L.popup({&quot;maxWidth&quot;: &quot;100%&quot;});\n",
       "\n",
       "        \n",
       "            \n",
       "                var html_7d82f071313cecd453651239c393fcae = $(`&lt;div id=&quot;html_7d82f071313cecd453651239c393fcae&quot; style=&quot;width: 100.0%; height: 100.0%;&quot;&gt;Original Pizza Price: $$ Rating: 3.5&lt;/div&gt;`)[0];\n",
       "                popup_f0ae5361a07443bd66f0680cc0fc1732.setContent(html_7d82f071313cecd453651239c393fcae);\n",
       "            \n",
       "        \n",
       "\n",
       "        marker_590fd03f48dfedd21e65d85b528ca881.bindPopup(popup_f0ae5361a07443bd66f0680cc0fc1732)\n",
       "        ;\n",
       "\n",
       "        \n",
       "    \n",
       "    \n",
       "            var marker_e3c0a567412a6d3c6bdde0513dc4c636 = L.marker(\n",
       "                [40.768589, -73.955047],\n",
       "                {}\n",
       "            ).addTo(map_93e0d3bfd224493beb1242f30930bc0c);\n",
       "        \n",
       "    \n",
       "        var popup_cc8c7d231422d61c7ae0d9231363740d = L.popup({&quot;maxWidth&quot;: &quot;100%&quot;});\n",
       "\n",
       "        \n",
       "            \n",
       "                var html_3d48e14ea8155342e5d3fb004a64da98 = $(`&lt;div id=&quot;html_3d48e14ea8155342e5d3fb004a64da98&quot; style=&quot;width: 100.0%; height: 100.0%;&quot;&gt;Delizia 73 Price: $$ Rating: 3.5&lt;/div&gt;`)[0];\n",
       "                popup_cc8c7d231422d61c7ae0d9231363740d.setContent(html_3d48e14ea8155342e5d3fb004a64da98);\n",
       "            \n",
       "        \n",
       "\n",
       "        marker_e3c0a567412a6d3c6bdde0513dc4c636.bindPopup(popup_cc8c7d231422d61c7ae0d9231363740d)\n",
       "        ;\n",
       "\n",
       "        \n",
       "    \n",
       "    \n",
       "            var marker_8c0144ff6da63d8619bcfc82f0a04481 = L.marker(\n",
       "                [40.68903, -73.92408],\n",
       "                {}\n",
       "            ).addTo(map_93e0d3bfd224493beb1242f30930bc0c);\n",
       "        \n",
       "    \n",
       "        var popup_bdbbacad00248e78bc28a3f8a6a3ec04 = L.popup({&quot;maxWidth&quot;: &quot;100%&quot;});\n",
       "\n",
       "        \n",
       "            \n",
       "                var html_4b48ba57a8f794714d2c2c43b097731e = $(`&lt;div id=&quot;html_4b48ba57a8f794714d2c2c43b097731e&quot; style=&quot;width: 100.0%; height: 100.0%;&quot;&gt;Bklyn Pizza Price: $ Rating: 3.5&lt;/div&gt;`)[0];\n",
       "                popup_bdbbacad00248e78bc28a3f8a6a3ec04.setContent(html_4b48ba57a8f794714d2c2c43b097731e);\n",
       "            \n",
       "        \n",
       "\n",
       "        marker_8c0144ff6da63d8619bcfc82f0a04481.bindPopup(popup_bdbbacad00248e78bc28a3f8a6a3ec04)\n",
       "        ;\n",
       "\n",
       "        \n",
       "    \n",
       "    \n",
       "            var marker_76b40e2059e8e5a382a0a295a2d48303 = L.marker(\n",
       "                [40.917609, -73.839425],\n",
       "                {}\n",
       "            ).addTo(map_93e0d3bfd224493beb1242f30930bc0c);\n",
       "        \n",
       "    \n",
       "        var popup_1aa81ad9097fb54cbae318e9210c3b50 = L.popup({&quot;maxWidth&quot;: &quot;100%&quot;});\n",
       "\n",
       "        \n",
       "            \n",
       "                var html_6101f7d59a7e66d9af5d252e59f37e30 = $(`&lt;div id=&quot;html_6101f7d59a7e66d9af5d252e59f37e30&quot; style=&quot;width: 100.0%; height: 100.0%;&quot;&gt;Johnny&#x27;s Pizzeria Price: $$ Rating: 4.0&lt;/div&gt;`)[0];\n",
       "                popup_1aa81ad9097fb54cbae318e9210c3b50.setContent(html_6101f7d59a7e66d9af5d252e59f37e30);\n",
       "            \n",
       "        \n",
       "\n",
       "        marker_76b40e2059e8e5a382a0a295a2d48303.bindPopup(popup_1aa81ad9097fb54cbae318e9210c3b50)\n",
       "        ;\n",
       "\n",
       "        \n",
       "    \n",
       "    \n",
       "            var marker_04dd5fb19442f77d8f84794f6bd309a9 = L.marker(\n",
       "                [40.69983, -73.83291],\n",
       "                {}\n",
       "            ).addTo(map_93e0d3bfd224493beb1242f30930bc0c);\n",
       "        \n",
       "    \n",
       "        var popup_01ca3ff4c89dc601312523478f828204 = L.popup({&quot;maxWidth&quot;: &quot;100%&quot;});\n",
       "\n",
       "        \n",
       "            \n",
       "                var html_c355c22d32c845f68ba5a1b3aca3f2a8 = $(`&lt;div id=&quot;html_c355c22d32c845f68ba5a1b3aca3f2a8&quot; style=&quot;width: 100.0%; height: 100.0%;&quot;&gt;Alfie&#x27;s Pizza Price: $ Rating: 4.5&lt;/div&gt;`)[0];\n",
       "                popup_01ca3ff4c89dc601312523478f828204.setContent(html_c355c22d32c845f68ba5a1b3aca3f2a8);\n",
       "            \n",
       "        \n",
       "\n",
       "        marker_04dd5fb19442f77d8f84794f6bd309a9.bindPopup(popup_01ca3ff4c89dc601312523478f828204)\n",
       "        ;\n",
       "\n",
       "        \n",
       "    \n",
       "    \n",
       "            var marker_68ee98280b67676002de14af4833580f = L.marker(\n",
       "                [40.7429257, -73.8831808],\n",
       "                {}\n",
       "            ).addTo(map_93e0d3bfd224493beb1242f30930bc0c);\n",
       "        \n",
       "    \n",
       "        var popup_a8b752ea727aebb8698d7e666f9cb06e = L.popup({&quot;maxWidth&quot;: &quot;100%&quot;});\n",
       "\n",
       "        \n",
       "            \n",
       "                var html_f0f8579ae442c0e56a12c5eda035b9fa = $(`&lt;div id=&quot;html_f0f8579ae442c0e56a12c5eda035b9fa&quot; style=&quot;width: 100.0%; height: 100.0%;&quot;&gt;Pizza Bella Price: $ Rating: 4.0&lt;/div&gt;`)[0];\n",
       "                popup_a8b752ea727aebb8698d7e666f9cb06e.setContent(html_f0f8579ae442c0e56a12c5eda035b9fa);\n",
       "            \n",
       "        \n",
       "\n",
       "        marker_68ee98280b67676002de14af4833580f.bindPopup(popup_a8b752ea727aebb8698d7e666f9cb06e)\n",
       "        ;\n",
       "\n",
       "        \n",
       "    \n",
       "&lt;/script&gt;\n",
       "&lt;/html&gt;\" style=\"position:absolute;width:100%;height:100%;left:0;top:0;border:none !important;\" allowfullscreen webkitallowfullscreen mozallowfullscreen></iframe></div></div>"
      ],
      "text/plain": [
       "<folium.folium.Map at 0x7f87cc1be920>"
      ]
     },
     "execution_count": 27,
     "metadata": {},
     "output_type": "execute_result"
    }
   ],
   "source": [
    "# Import the library\n",
    "import folium\n",
    "\n",
    "# Set up center latitude and longitude\n",
    "center_lat = full_dataset[0][\"latitude\"]\n",
    "center_long = full_dataset[0][\"longitude\"]\n",
    "\n",
    "# Initialize map with center lat and long\n",
    "yelp_map = folium.Map([center_lat, center_long], zoom_start=12)\n",
    "\n",
    "# Adjust this limit to see more or fewer businesses\n",
    "limit=100\n",
    "\n",
    "for business in full_dataset[:limit]:\n",
    "    # Extract information about business\n",
    "    lat = business[\"latitude\"]\n",
    "    long = business[\"longitude\"]\n",
    "    name = business[\"name\"]\n",
    "    rating = business[\"rating\"]\n",
    "    price = business[\"price\"]\n",
    "    details = \"{}\\nPrice: {}\\nRating: {}\".format(name,price,rating)\n",
    "    \n",
    "    # Create popup with relevant details\n",
    "    popup = folium.Popup(details)\n",
    "    \n",
    "    # Create marker with relevant lat/long and popup\n",
    "    marker = folium.Marker([lat, long], popup=popup)\n",
    "    \n",
    "    marker.add_to(yelp_map)\n",
    "\n",
    "yelp_map"
   ]
  },
  {
   "cell_type": "markdown",
   "metadata": {},
   "source": [
    "## Summary\n",
    "\n",
    "Nice work! In this lab, you've made multiple API calls to Yelp in order to paginate through a results set, performing some basic exploratory analysis and then creating a nice interactive map to display the results using Folium! Well done!"
   ]
  }
 ],
 "metadata": {
  "kernelspec": {
   "display_name": "Python (learn-env)",
   "language": "python",
   "name": "learn-env"
  },
  "language_info": {
   "codemirror_mode": {
    "name": "ipython",
    "version": 3
   },
   "file_extension": ".py",
   "mimetype": "text/x-python",
   "name": "python",
   "nbconvert_exporter": "python",
   "pygments_lexer": "ipython3",
   "version": "3.10.13"
  },
  "toc": {
   "base_numbering": 1,
   "nav_menu": {},
   "number_sections": true,
   "sideBar": true,
   "skip_h1_title": false,
   "title_cell": "Table of Contents",
   "title_sidebar": "Contents",
   "toc_cell": false,
   "toc_position": {},
   "toc_section_display": true,
   "toc_window_display": false
  }
 },
 "nbformat": 4,
 "nbformat_minor": 4
}
